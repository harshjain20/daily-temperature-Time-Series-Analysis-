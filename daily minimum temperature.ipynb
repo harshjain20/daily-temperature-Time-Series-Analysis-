{
 "cells": [
  {
   "cell_type": "code",
   "execution_count": 1,
   "id": "5de9044e",
   "metadata": {},
   "outputs": [],
   "source": [
    "import numpy as np\n",
    "import pandas as pd\n",
    "from pandas import Series\n",
    "import matplotlib.pyplot as plt\n",
    "%matplotlib inline"
   ]
  },
  {
   "cell_type": "code",
   "execution_count": 2,
   "id": "521e99bb",
   "metadata": {},
   "outputs": [],
   "source": [
    "data = pd.read_csv('D:/projects/min temp time-series/temp.csv',header=0,squeeze=True)"
   ]
  },
  {
   "cell_type": "code",
   "execution_count": 3,
   "id": "4d6d98c0",
   "metadata": {},
   "outputs": [
    {
     "data": {
      "text/html": [
       "<div>\n",
       "<style scoped>\n",
       "    .dataframe tbody tr th:only-of-type {\n",
       "        vertical-align: middle;\n",
       "    }\n",
       "\n",
       "    .dataframe tbody tr th {\n",
       "        vertical-align: top;\n",
       "    }\n",
       "\n",
       "    .dataframe thead th {\n",
       "        text-align: right;\n",
       "    }\n",
       "</style>\n",
       "<table border=\"1\" class=\"dataframe\">\n",
       "  <thead>\n",
       "    <tr style=\"text-align: right;\">\n",
       "      <th></th>\n",
       "      <th>Date</th>\n",
       "      <th>Daily minimum temperatures in Melbourne, Australia, 1981-1990</th>\n",
       "    </tr>\n",
       "  </thead>\n",
       "  <tbody>\n",
       "    <tr>\n",
       "      <th>0</th>\n",
       "      <td>01-01-1981</td>\n",
       "      <td>20.7</td>\n",
       "    </tr>\n",
       "    <tr>\n",
       "      <th>1</th>\n",
       "      <td>02-01-1981</td>\n",
       "      <td>17.9</td>\n",
       "    </tr>\n",
       "    <tr>\n",
       "      <th>2</th>\n",
       "      <td>03-01-1981</td>\n",
       "      <td>18.8</td>\n",
       "    </tr>\n",
       "    <tr>\n",
       "      <th>3</th>\n",
       "      <td>04-01-1981</td>\n",
       "      <td>14.6</td>\n",
       "    </tr>\n",
       "    <tr>\n",
       "      <th>4</th>\n",
       "      <td>05-01-1981</td>\n",
       "      <td>15.8</td>\n",
       "    </tr>\n",
       "  </tbody>\n",
       "</table>\n",
       "</div>"
      ],
      "text/plain": [
       "         Date  Daily minimum temperatures in Melbourne, Australia, 1981-1990\n",
       "0  01-01-1981                                               20.7            \n",
       "1  02-01-1981                                               17.9            \n",
       "2  03-01-1981                                               18.8            \n",
       "3  04-01-1981                                               14.6            \n",
       "4  05-01-1981                                               15.8            "
      ]
     },
     "execution_count": 3,
     "metadata": {},
     "output_type": "execute_result"
    }
   ],
   "source": [
    "data.head()"
   ]
  },
  {
   "cell_type": "code",
   "execution_count": 4,
   "id": "0a79653a",
   "metadata": {},
   "outputs": [],
   "source": [
    "data['Date'] = pd.to_datetime(data['Date'],format='%d-%m-%Y')"
   ]
  },
  {
   "cell_type": "code",
   "execution_count": 5,
   "id": "f9924e71",
   "metadata": {},
   "outputs": [],
   "source": [
    "data = data.rename(columns = {'Daily minimum temperatures in Melbourne, Australia, 1981-1990': 'Temperature'})"
   ]
  },
  {
   "cell_type": "code",
   "execution_count": 6,
   "id": "8213a35f",
   "metadata": {},
   "outputs": [],
   "source": [
    "data['Temperature'] = data['Temperature'].astype(\"float64\")"
   ]
  },
  {
   "cell_type": "code",
   "execution_count": 7,
   "id": "edcbd48e",
   "metadata": {},
   "outputs": [],
   "source": [
    "import seaborn as sns"
   ]
  },
  {
   "cell_type": "code",
   "execution_count": 8,
   "id": "4fc3b2f6",
   "metadata": {},
   "outputs": [],
   "source": [
    "avg_temp = data.Temperature.mean()"
   ]
  },
  {
   "cell_type": "code",
   "execution_count": 9,
   "id": "c17cc72c",
   "metadata": {},
   "outputs": [],
   "source": [
    "data1 = data.copy()"
   ]
  },
  {
   "cell_type": "code",
   "execution_count": 10,
   "id": "bb9932c7",
   "metadata": {},
   "outputs": [],
   "source": [
    "data1['avg_temp'] = avg_temp"
   ]
  },
  {
   "cell_type": "code",
   "execution_count": 11,
   "id": "ad2ad35e",
   "metadata": {},
   "outputs": [
    {
     "data": {
      "text/plain": [
       "[<matplotlib.lines.Line2D at 0x20e7ea3a100>]"
      ]
     },
     "execution_count": 11,
     "metadata": {},
     "output_type": "execute_result"
    },
    {
     "data": {
      "image/png": "[encoded data removed]",
      "text/plain": [
       "<Figure size 432x288 with 1 Axes>"
      ]
     },
     "metadata": {
      "needs_background": "light"
     },
     "output_type": "display_data"
    }
   ],
   "source": [
    "plt.plot(data['Date'],data['Temperature'])\n",
    "plt.plot(data['Date'],data1['avg_temp'])"
   ]
  },
  {
   "cell_type": "code",
   "execution_count": 12,
   "id": "c5431a15",
   "metadata": {},
   "outputs": [],
   "source": [
    "series = pd.read_csv('D:/projects/min temp time-series/temp.csv',header=0,squeeze=True,index_col=0,parse_dates=True)"
   ]
  },
  {
   "cell_type": "code",
   "execution_count": 13,
   "id": "33911605",
   "metadata": {},
   "outputs": [
    {
     "data": {
      "text/plain": [
       "Date\n",
       "1981-01-01    20.7\n",
       "1981-02-01    17.9\n",
       "1981-03-01    18.8\n",
       "1981-04-01    14.6\n",
       "1981-05-01    15.8\n",
       "Name: Daily minimum temperatures in Melbourne, Australia, 1981-1990, dtype: float64"
      ]
     },
     "execution_count": 13,
     "metadata": {},
     "output_type": "execute_result"
    }
   ],
   "source": [
    "series.head()"
   ]
  },
  {
   "cell_type": "code",
   "execution_count": 14,
   "id": "369193cc",
   "metadata": {},
   "outputs": [
    {
     "data": {
      "text/plain": [
       "<AxesSubplot:xlabel='y(t)', ylabel='y(t + 1)'>"
      ]
     },
     "execution_count": 14,
     "metadata": {},
     "output_type": "execute_result"
    },
    {
     "data": {
      "image/png": "[encoded data removed]",
      "text/plain": [
       "<Figure size 432x288 with 1 Axes>"
      ]
     },
     "metadata": {
      "needs_background": "light"
     },
     "output_type": "display_data"
    }
   ],
   "source": [
    "pd.plotting.lag_plot(series)"
   ]
  },
  {
   "cell_type": "code",
   "execution_count": 15,
   "id": "920aae72",
   "metadata": {},
   "outputs": [],
   "source": [
    "from statsmodels.graphics.tsaplots import plot_acf\n",
    "from statsmodels.tsa.ar_model import AutoReg\n",
    "from sklearn.metrics import mean_squared_error"
   ]
  },
  {
   "cell_type": "code",
   "execution_count": 16,
   "id": "e757ec39",
   "metadata": {},
   "outputs": [
    {
     "data": {
      "image/png": "[encoded data removed]",
      "text/plain": [
       "<Figure size 432x288 with 1 Axes>"
      ]
     },
     "metadata": {
      "needs_background": "light"
     },
     "output_type": "display_data"
    }
   ],
   "source": [
    "plot_acf(series,lags=30)\n",
    "plt.show()"
   ]
  },
  {
   "cell_type": "code",
   "execution_count": 59,
   "id": "528c40f4",
   "metadata": {},
   "outputs": [
    {
     "data": {
      "image/png": "[encoded data removed]",
      "text/plain": [
       "<Figure size 432x288 with 1 Axes>"
      ]
     },
     "metadata": {
      "needs_background": "light"
     },
     "output_type": "display_data"
    }
   ],
   "source": [
    "plot_acf(series,lags=400)\n",
    "plt.show()"
   ]
  },
  {
   "cell_type": "code",
   "execution_count": 17,
   "id": "8513dd94",
   "metadata": {},
   "outputs": [],
   "source": [
    "values = series.values"
   ]
  },
  {
   "cell_type": "code",
   "execution_count": 18,
   "id": "df3f9e8f",
   "metadata": {},
   "outputs": [],
   "source": [
    "train,test = values[0:len(values)-7],values[len(values)-7:]"
   ]
  },
  {
   "cell_type": "code",
   "execution_count": 19,
   "id": "5f8423d3",
   "metadata": {},
   "outputs": [
    {
     "data": {
      "text/plain": [
       "array([20.7, 17.9, 18.8, ..., 13.2, 13.9, 10. ])"
      ]
     },
     "execution_count": 19,
     "metadata": {},
     "output_type": "execute_result"
    }
   ],
   "source": [
    "train"
   ]
  },
  {
   "cell_type": "code",
   "execution_count": 20,
   "id": "c645560f",
   "metadata": {},
   "outputs": [
    {
     "data": {
      "text/plain": [
       "3650"
      ]
     },
     "execution_count": 20,
     "metadata": {},
     "output_type": "execute_result"
    }
   ],
   "source": [
    "len(values)"
   ]
  },
  {
   "cell_type": "code",
   "execution_count": 21,
   "id": "4ab74edc",
   "metadata": {},
   "outputs": [
    {
     "name": "stderr",
     "output_type": "stream",
     "text": [
      "C:\\ProgramData\\Anaconda3\\lib\\site-packages\\statsmodels\\tsa\\ar_model.py:248: FutureWarning: The parameter names will change after 0.12 is released. Set old_names to False to use the new names now. Set old_names to True to use the old names. \n",
      "  warnings.warn(\n",
      "C:\\ProgramData\\Anaconda3\\lib\\site-packages\\statsmodels\\tsa\\ar_model.py:248: FutureWarning: The parameter names will change after 0.12 is released. Set old_names to False to use the new names now. Set old_names to True to use the old names. \n",
      "  warnings.warn(\n",
      "C:\\ProgramData\\Anaconda3\\lib\\site-packages\\statsmodels\\tsa\\ar_model.py:248: FutureWarning: The parameter names will change after 0.12 is released. Set old_names to False to use the new names now. Set old_names to True to use the old names. \n",
      "  warnings.warn(\n",
      "C:\\ProgramData\\Anaconda3\\lib\\site-packages\\statsmodels\\tsa\\ar_model.py:248: FutureWarning: The parameter names will change after 0.12 is released. Set old_names to False to use the new names now. Set old_names to True to use the old names. \n",
      "  warnings.warn(\n",
      "C:\\ProgramData\\Anaconda3\\lib\\site-packages\\statsmodels\\tsa\\ar_model.py:248: FutureWarning: The parameter names will change after 0.12 is released. Set old_names to False to use the new names now. Set old_names to True to use the old names. \n",
      "  warnings.warn(\n",
      "C:\\ProgramData\\Anaconda3\\lib\\site-packages\\statsmodels\\tsa\\ar_model.py:248: FutureWarning: The parameter names will change after 0.12 is released. Set old_names to False to use the new names now. Set old_names to True to use the old names. \n",
      "  warnings.warn(\n",
      "C:\\ProgramData\\Anaconda3\\lib\\site-packages\\statsmodels\\tsa\\ar_model.py:248: FutureWarning: The parameter names will change after 0.12 is released. Set old_names to False to use the new names now. Set old_names to True to use the old names. \n",
      "  warnings.warn(\n",
      "C:\\ProgramData\\Anaconda3\\lib\\site-packages\\statsmodels\\tsa\\ar_model.py:248: FutureWarning: The parameter names will change after 0.12 is released. Set old_names to False to use the new names now. Set old_names to True to use the old names. \n",
      "  warnings.warn(\n",
      "C:\\ProgramData\\Anaconda3\\lib\\site-packages\\statsmodels\\tsa\\ar_model.py:248: FutureWarning: The parameter names will change after 0.12 is released. Set old_names to False to use the new names now. Set old_names to True to use the old names. \n",
      "  warnings.warn(\n",
      "C:\\ProgramData\\Anaconda3\\lib\\site-packages\\statsmodels\\tsa\\ar_model.py:248: FutureWarning: The parameter names will change after 0.12 is released. Set old_names to False to use the new names now. Set old_names to True to use the old names. \n",
      "  warnings.warn(\n",
      "C:\\ProgramData\\Anaconda3\\lib\\site-packages\\statsmodels\\tsa\\ar_model.py:248: FutureWarning: The parameter names will change after 0.12 is released. Set old_names to False to use the new names now. Set old_names to True to use the old names. \n",
      "  warnings.warn(\n",
      "C:\\ProgramData\\Anaconda3\\lib\\site-packages\\statsmodels\\tsa\\ar_model.py:248: FutureWarning: The parameter names will change after 0.12 is released. Set old_names to False to use the new names now. Set old_names to True to use the old names. \n",
      "  warnings.warn(\n",
      "C:\\ProgramData\\Anaconda3\\lib\\site-packages\\statsmodels\\tsa\\ar_model.py:248: FutureWarning: The parameter names will change after 0.12 is released. Set old_names to False to use the new names now. Set old_names to True to use the old names. \n",
      "  warnings.warn(\n",
      "C:\\ProgramData\\Anaconda3\\lib\\site-packages\\statsmodels\\tsa\\ar_model.py:248: FutureWarning: The parameter names will change after 0.12 is released. Set old_names to False to use the new names now. Set old_names to True to use the old names. \n",
      "  warnings.warn(\n",
      "C:\\ProgramData\\Anaconda3\\lib\\site-packages\\statsmodels\\tsa\\ar_model.py:248: FutureWarning: The parameter names will change after 0.12 is released. Set old_names to False to use the new names now. Set old_names to True to use the old names. \n",
      "  warnings.warn(\n",
      "C:\\ProgramData\\Anaconda3\\lib\\site-packages\\statsmodels\\tsa\\ar_model.py:248: FutureWarning: The parameter names will change after 0.12 is released. Set old_names to False to use the new names now. Set old_names to True to use the old names. \n",
      "  warnings.warn(\n",
      "C:\\ProgramData\\Anaconda3\\lib\\site-packages\\statsmodels\\tsa\\ar_model.py:248: FutureWarning: The parameter names will change after 0.12 is released. Set old_names to False to use the new names now. Set old_names to True to use the old names. \n",
      "  warnings.warn(\n",
      "C:\\ProgramData\\Anaconda3\\lib\\site-packages\\statsmodels\\tsa\\ar_model.py:248: FutureWarning: The parameter names will change after 0.12 is released. Set old_names to False to use the new names now. Set old_names to True to use the old names. \n",
      "  warnings.warn(\n"
     ]
    },
    {
     "name": "stdout",
     "output_type": "stream",
     "text": [
      "for lags = 1.000000, Root Mean Squared Error: 3.334\n",
      "for lags = 2.000000, Root Mean Squared Error: 3.240\n",
      "for lags = 3.000000, Root Mean Squared Error: 2.977\n",
      "for lags = 4.000000, Root Mean Squared Error: 2.763\n",
      "for lags = 5.000000, Root Mean Squared Error: 2.468\n",
      "for lags = 6.000000, Root Mean Squared Error: 2.227\n",
      "for lags = 7.000000, Root Mean Squared Error: 1.868\n",
      "for lags = 8.000000, Root Mean Squared Error: 1.726\n",
      "for lags = 9.000000, Root Mean Squared Error: 1.620\n",
      "for lags = 10.000000, Root Mean Squared Error: 1.564\n",
      "for lags = 11.000000, Root Mean Squared Error: 1.531\n",
      "for lags = 12.000000, Root Mean Squared Error: 1.530\n",
      "for lags = 13.000000, Root Mean Squared Error: 1.545\n",
      "for lags = 14.000000, Root Mean Squared Error: 1.575\n",
      "for lags = 15.000000, Root Mean Squared Error: 1.640\n",
      "for lags = 16.000000, Root Mean Squared Error: 1.651\n",
      "for lags = 17.000000, Root Mean Squared Error: 1.627\n",
      "for lags = 18.000000, Root Mean Squared Error: 1.526\n",
      "for lags = 19.000000, Root Mean Squared Error: 1.485\n"
     ]
    },
    {
     "name": "stderr",
     "output_type": "stream",
     "text": [
      "C:\\ProgramData\\Anaconda3\\lib\\site-packages\\statsmodels\\tsa\\ar_model.py:248: FutureWarning: The parameter names will change after 0.12 is released. Set old_names to False to use the new names now. Set old_names to True to use the old names. \n",
      "  warnings.warn(\n",
      "C:\\ProgramData\\Anaconda3\\lib\\site-packages\\statsmodels\\tsa\\ar_model.py:248: FutureWarning: The parameter names will change after 0.12 is released. Set old_names to False to use the new names now. Set old_names to True to use the old names. \n",
      "  warnings.warn(\n",
      "C:\\ProgramData\\Anaconda3\\lib\\site-packages\\statsmodels\\tsa\\ar_model.py:248: FutureWarning: The parameter names will change after 0.12 is released. Set old_names to False to use the new names now. Set old_names to True to use the old names. \n",
      "  warnings.warn(\n",
      "C:\\ProgramData\\Anaconda3\\lib\\site-packages\\statsmodels\\tsa\\ar_model.py:248: FutureWarning: The parameter names will change after 0.12 is released. Set old_names to False to use the new names now. Set old_names to True to use the old names. \n",
      "  warnings.warn(\n",
      "C:\\ProgramData\\Anaconda3\\lib\\site-packages\\statsmodels\\tsa\\ar_model.py:248: FutureWarning: The parameter names will change after 0.12 is released. Set old_names to False to use the new names now. Set old_names to True to use the old names. \n",
      "  warnings.warn(\n",
      "C:\\ProgramData\\Anaconda3\\lib\\site-packages\\statsmodels\\tsa\\ar_model.py:248: FutureWarning: The parameter names will change after 0.12 is released. Set old_names to False to use the new names now. Set old_names to True to use the old names. \n",
      "  warnings.warn(\n",
      "C:\\ProgramData\\Anaconda3\\lib\\site-packages\\statsmodels\\tsa\\ar_model.py:248: FutureWarning: The parameter names will change after 0.12 is released. Set old_names to False to use the new names now. Set old_names to True to use the old names. \n",
      "  warnings.warn(\n",
      "C:\\ProgramData\\Anaconda3\\lib\\site-packages\\statsmodels\\tsa\\ar_model.py:248: FutureWarning: The parameter names will change after 0.12 is released. Set old_names to False to use the new names now. Set old_names to True to use the old names. \n",
      "  warnings.warn(\n",
      "C:\\ProgramData\\Anaconda3\\lib\\site-packages\\statsmodels\\tsa\\ar_model.py:248: FutureWarning: The parameter names will change after 0.12 is released. Set old_names to False to use the new names now. Set old_names to True to use the old names. \n",
      "  warnings.warn(\n",
      "C:\\ProgramData\\Anaconda3\\lib\\site-packages\\statsmodels\\tsa\\ar_model.py:248: FutureWarning: The parameter names will change after 0.12 is released. Set old_names to False to use the new names now. Set old_names to True to use the old names. \n",
      "  warnings.warn(\n",
      "C:\\ProgramData\\Anaconda3\\lib\\site-packages\\statsmodels\\tsa\\ar_model.py:248: FutureWarning: The parameter names will change after 0.12 is released. Set old_names to False to use the new names now. Set old_names to True to use the old names. \n",
      "  warnings.warn(\n"
     ]
    },
    {
     "name": "stdout",
     "output_type": "stream",
     "text": [
      "for lags = 20.000000, Root Mean Squared Error: 1.328\n",
      "for lags = 21.000000, Root Mean Squared Error: 1.237\n",
      "for lags = 22.000000, Root Mean Squared Error: 1.203\n",
      "for lags = 23.000000, Root Mean Squared Error: 1.230\n",
      "for lags = 24.000000, Root Mean Squared Error: 1.205\n",
      "for lags = 25.000000, Root Mean Squared Error: 1.194\n",
      "for lags = 26.000000, Root Mean Squared Error: 1.208\n",
      "for lags = 27.000000, Root Mean Squared Error: 1.214\n",
      "for lags = 28.000000, Root Mean Squared Error: 1.227\n",
      "for lags = 29.000000, Root Mean Squared Error: 1.225\n",
      "for lags = 30.000000, Root Mean Squared Error: 1.225\n"
     ]
    },
    {
     "name": "stderr",
     "output_type": "stream",
     "text": [
      "C:\\ProgramData\\Anaconda3\\lib\\site-packages\\statsmodels\\tsa\\ar_model.py:248: FutureWarning: The parameter names will change after 0.12 is released. Set old_names to False to use the new names now. Set old_names to True to use the old names. \n",
      "  warnings.warn(\n"
     ]
    }
   ],
   "source": [
    "error = []\n",
    "lags = []\n",
    "for k in range(1,31):\n",
    "    model1 = AutoReg(train,lags=k)\n",
    "    model1_fit=model1.fit()\n",
    "    pred = model1_fit.predict(start = len(train), end = len(train)+len(test)-1,dynamic=False)\n",
    "    rmse = np.sqrt(mean_squared_error(test,pred))\n",
    "    print(\"for lags = %f, Root Mean Squared Error: %0.3f\"%(k,rmse))\n",
    "    error.append(rmse)\n",
    "    lags.append(k)\n",
    "\n",
    "\n",
    "   \n",
    "\n",
    "\n"
   ]
  },
  {
   "cell_type": "code",
   "execution_count": 22,
   "id": "e57334f0",
   "metadata": {},
   "outputs": [
    {
     "data": {
      "text/plain": [
       "[<matplotlib.lines.Line2D at 0x20e406d2760>]"
      ]
     },
     "execution_count": 22,
     "metadata": {},
     "output_type": "execute_result"
    },
    {
     "data": {
      "image/png": "[encoded data removed]",
      "text/plain": [
       "<Figure size 432x288 with 1 Axes>"
      ]
     },
     "metadata": {
      "needs_background": "light"
     },
     "output_type": "display_data"
    }
   ],
   "source": [
    "plt.plot(lags,error)"
   ]
  },
  {
   "cell_type": "code",
   "execution_count": 23,
   "id": "a639712d",
   "metadata": {},
   "outputs": [
    {
     "name": "stdout",
     "output_type": "stream",
     "text": [
      "for lags = 14.000000, Root Mean Squared Error: 1.575\n",
      "Predicted temperature =11.333390, Expected Temperature=12.900000\n",
      "Predicted temperature =12.469958, Expected Temperature=14.600000\n",
      "Predicted temperature =12.879503, Expected Temperature=14.000000\n",
      "Predicted temperature =12.857908, Expected Temperature=13.600000\n",
      "Predicted temperature =12.842412, Expected Temperature=13.500000\n",
      "Predicted temperature =12.854446, Expected Temperature=15.700000\n",
      "Predicted temperature =12.829843, Expected Temperature=13.000000\n"
     ]
    },
    {
     "name": "stderr",
     "output_type": "stream",
     "text": [
      "C:\\ProgramData\\Anaconda3\\lib\\site-packages\\statsmodels\\tsa\\ar_model.py:248: FutureWarning: The parameter names will change after 0.12 is released. Set old_names to False to use the new names now. Set old_names to True to use the old names. \n",
      "  warnings.warn(\n"
     ]
    }
   ],
   "source": [
    "model2 = AutoReg(train,lags=14)\n",
    "model2_fit=model2.fit()\n",
    "pred1 = model2_fit.predict(start = len(train), end = len(train)+len(test)-1,dynamic=False)\n",
    "rmse = np.sqrt(mean_squared_error(test,pred1))\n",
    "print(\"for lags = %f, Root Mean Squared Error: %0.3f\"%(14,rmse))\n",
    "for i in range (len(pred1)):\n",
    "    print('Predicted temperature =%f, Expected Temperature=%f' %(pred1[i],test[i]))"
   ]
  },
  {
   "cell_type": "code",
   "execution_count": 24,
   "id": "1b382d6a",
   "metadata": {},
   "outputs": [
    {
     "data": {
      "image/png": "[encoded data removed]",
      "text/plain": [
       "<Figure size 432x288 with 1 Axes>"
      ]
     },
     "metadata": {
      "needs_background": "light"
     },
     "output_type": "display_data"
    }
   ],
   "source": [
    "plt.plot(test)\n",
    "plt.plot(pred1,color='red')\n",
    "plt.show()"
   ]
  },
  {
   "cell_type": "code",
   "execution_count": 25,
   "id": "2716119e",
   "metadata": {},
   "outputs": [
    {
     "name": "stdout",
     "output_type": "stream",
     "text": [
      "for lags = 29.000000, Root Mean Squared Error: 1.225\n",
      "Predicted temperature =11.872160, Expected Temperature=12.900000\n",
      "Predicted temperature =13.055704, Expected Temperature=14.600000\n",
      "Predicted temperature =13.531810, Expected Temperature=14.000000\n",
      "Predicted temperature =13.242590, Expected Temperature=13.600000\n",
      "Predicted temperature =13.091564, Expected Temperature=13.500000\n",
      "Predicted temperature =13.146082, Expected Temperature=15.700000\n",
      "Predicted temperature =13.176492, Expected Temperature=13.000000\n"
     ]
    },
    {
     "name": "stderr",
     "output_type": "stream",
     "text": [
      "C:\\ProgramData\\Anaconda3\\lib\\site-packages\\statsmodels\\tsa\\ar_model.py:248: FutureWarning: The parameter names will change after 0.12 is released. Set old_names to False to use the new names now. Set old_names to True to use the old names. \n",
      "  warnings.warn(\n"
     ]
    }
   ],
   "source": [
    "model3 = AutoReg(train,lags=29)\n",
    "model3_fit=model3.fit()\n",
    "pred2 = model3_fit.predict(start = len(train), end = len(train)+len(test)-1,dynamic=False)\n",
    "rmse = np.sqrt(mean_squared_error(test,pred2))\n",
    "print(\"for lags = %f, Root Mean Squared Error: %0.3f\"%(29,rmse))\n",
    "for i in range (len(pred2)):\n",
    "    print('Predicted temperature =%f, Expected Temperature=%f' %(pred2[i],test[i]))"
   ]
  },
  {
   "cell_type": "code",
   "execution_count": 26,
   "id": "b9bd871c",
   "metadata": {},
   "outputs": [
    {
     "data": {
      "image/png": "[encoded data removed]",
      "text/plain": [
       "<Figure size 432x288 with 1 Axes>"
      ]
     },
     "metadata": {
      "needs_background": "light"
     },
     "output_type": "display_data"
    }
   ],
   "source": [
    "plt.plot(test)\n",
    "plt.plot(pred1,color='red')\n",
    "plt.show()"
   ]
  },
  {
   "cell_type": "code",
   "execution_count": 27,
   "id": "33b838fb",
   "metadata": {},
   "outputs": [
    {
     "data": {
      "image/png": "[encoded data removed]",
      "text/plain": [
       "<Figure size 432x288 with 1 Axes>"
      ]
     },
     "metadata": {
      "needs_background": "light"
     },
     "output_type": "display_data"
    }
   ],
   "source": [
    "series.hist()\n",
    "plt.show()"
   ]
  },
  {
   "cell_type": "code",
   "execution_count": 28,
   "id": "360a53a4",
   "metadata": {},
   "outputs": [],
   "source": [
    "split=round(len(values)/2)"
   ]
  },
  {
   "cell_type": "code",
   "execution_count": 29,
   "id": "2532f17a",
   "metadata": {},
   "outputs": [
    {
     "data": {
      "text/plain": [
       "1825"
      ]
     },
     "execution_count": 29,
     "metadata": {},
     "output_type": "execute_result"
    }
   ],
   "source": [
    "split"
   ]
  },
  {
   "cell_type": "code",
   "execution_count": 30,
   "id": "908e1eaf",
   "metadata": {},
   "outputs": [],
   "source": [
    "x1,x2 = values[0:split],values[split:]"
   ]
  },
  {
   "cell_type": "code",
   "execution_count": 32,
   "id": "230b94ba",
   "metadata": {},
   "outputs": [
    {
     "data": {
      "text/plain": [
       "((1825,), (1825,))"
      ]
     },
     "execution_count": 32,
     "metadata": {},
     "output_type": "execute_result"
    }
   ],
   "source": [
    "x1.shape,x2.shape"
   ]
  },
  {
   "cell_type": "code",
   "execution_count": 33,
   "id": "90d47f8f",
   "metadata": {},
   "outputs": [
    {
     "data": {
      "text/plain": [
       "array([12.9, 13.8, 10.6, ..., 13.5, 15.7, 13. ])"
      ]
     },
     "execution_count": 33,
     "metadata": {},
     "output_type": "execute_result"
    }
   ],
   "source": [
    "x2"
   ]
  },
  {
   "cell_type": "code",
   "execution_count": 34,
   "id": "0f632204",
   "metadata": {},
   "outputs": [
    {
     "name": "stdout",
     "output_type": "stream",
     "text": [
      "11.043506849315069 11.312000000000001\n",
      "18.160824962281854 14.953757369863014\n"
     ]
    }
   ],
   "source": [
    "x1_mean, x2_mean = x1.mean(),x2.mean()\n",
    "x1_var,x2_var = x1.var(),x2.var()\n",
    "print(x1_mean,x2_mean)\n",
    "print(x1_var,x2_var)"
   ]
  },
  {
   "cell_type": "code",
   "execution_count": 35,
   "id": "342c0e66",
   "metadata": {},
   "outputs": [],
   "source": [
    "from statsmodels.tsa.stattools import adfuller"
   ]
  },
  {
   "cell_type": "code",
   "execution_count": 52,
   "id": "6763f1bc",
   "metadata": {},
   "outputs": [
    {
     "data": {
      "text/plain": [
       "(-4.444804924611689,\n",
       " 0.0002470826300361109,\n",
       " 20,\n",
       " 3629,\n",
       " {'1%': -3.4321532327220154,\n",
       "  '5%': -2.862336767636517,\n",
       "  '10%': -2.56719413172842},\n",
       " 16642.822304301197)"
      ]
     },
     "execution_count": 52,
     "metadata": {},
     "output_type": "execute_result"
    }
   ],
   "source": [
    "stat = adfuller(values)\n",
    "stat"
   ]
  },
  {
   "cell_type": "code",
   "execution_count": 56,
   "id": "27bfebb7",
   "metadata": {},
   "outputs": [
    {
     "name": "stdout",
     "output_type": "stream",
     "text": [
      "ADF Statistics = -4.444805\n",
      " P-Value of Augumented Dickey-Fuller Test=0.000247\n",
      "Critical Values\n",
      "1% = -3.4321532327220154\n",
      "5% = -2.862336767636517\n",
      "10% = -2.56719413172842\n"
     ]
    }
   ],
   "source": [
    "print(\"ADF Statistics = %f\" %stat[0])\n",
    "print(\" P-Value of Augumented Dickey-Fuller Test=%f\" %stat[1])\n",
    "print(\"Critical Values\")\n",
    "for key,value in stat[4].items():\n",
    "    print('{} = {}'.format(key, value))"
   ]
  },
  {
   "cell_type": "code",
   "execution_count": 57,
   "id": "9047ea51",
   "metadata": {},
   "outputs": [
    {
     "name": "stdout",
     "output_type": "stream",
     "text": [
      "OUR TIME SERIES IS STATIONARY\n"
     ]
    }
   ],
   "source": [
    "if(stat[1]<0.05):\n",
    "    print(\"OUR TIME SERIES IS STATIONARY\")"
   ]
  },
  {
   "cell_type": "code",
   "execution_count": null,
   "id": "51d88796",
   "metadata": {},
   "outputs": [],
   "source": []
  }
 ],
 "metadata": {
  "kernelspec": {
   "display_name": "Python 3",
   "language": "python",
   "name": "python3"
  },
  "language_info": {
   "codemirror_mode": {
    "name": "ipython",
    "version": 3
   },
   "file_extension": ".py",
   "mimetype": "text/x-python",
   "name": "python",
   "nbconvert_exporter": "python",
   "pygments_lexer": "ipython3",
   "version": "3.8.8"
  }
 },
 "nbformat": 4,
 "nbformat_minor": 5
}
